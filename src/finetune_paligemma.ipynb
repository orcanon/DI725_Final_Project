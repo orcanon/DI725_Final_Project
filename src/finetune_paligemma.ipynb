{
 "cells": [
  {
   "cell_type": "code",
   "execution_count": null,
   "outputs": [],
   "source": [
    "import pandas as pd\n",
    "from torch.utils.data import Dataset, DataLoader\n",
    "from transformers import AutoTokenizer\n",
    "from processing_paligemma import PaliGemmaProcessor\n",
    "from utils import load_hf_model\n",
    "from PIL import Image\n",
    "import torch\n",
    "from tqdm import tqdm\n",
    "from sklearn.metrics import accuracy_score"
   ],
   "metadata": {
    "collapsed": false,
    "pycharm": {
     "name": "#%%\n"
    }
   }
  },
  {
   "cell_type": "code",
   "execution_count": null,
   "outputs": [],
   "source": [
    "# === Configuration ===\n",
    "CSV_PATH = \"captions.csv\"\n",
    "IMAGE_DIR = \"data/images/\"\n",
    "MODEL_PATH = \"paligemma_model/\"\n",
    "DEVICE = \"cuda\" if torch.cuda.is_available() else \"cpu\""
   ],
   "metadata": {
    "collapsed": false,
    "pycharm": {
     "name": "#%%\n"
    }
   }
  },
  {
   "cell_type": "code",
   "execution_count": null,
   "outputs": [],
   "source": [
    "# === Load CSV ===\n",
    "df = pd.read_csv(CSV_PATH)\n",
    "train_df = df[df['split'] == 'train'].reset_index(drop=True)\n",
    "val_df = df[df['split'] == 'val'].reset_index(drop=True)"
   ],
   "metadata": {
    "collapsed": false,
    "pycharm": {
     "name": "#%%\n"
    }
   }
  },
  {
   "cell_type": "code",
   "execution_count": null,
   "outputs": [],
   "source": [
    "# === Tokenizer & Processor ===\n",
    "tokenizer = AutoTokenizer.from_pretrained(MODEL_PATH, padding_side=\"right\")\n",
    "processor = PaliGemmaProcessor(tokenizer, num_image_tokens=196, image_size=224)\n",
    "\n",
    "# === Load Model ===\n",
    "model, tokenizer = load_hf_model(MODEL_PATH, DEVICE)\n",
    "model.to(DEVICE).train()"
   ],
   "metadata": {
    "collapsed": false,
    "pycharm": {
     "name": "#%%\n"
    }
   }
  },
  {
   "cell_type": "code",
   "execution_count": null,
   "outputs": [],
   "source": [
    "# === Dataset Class ===\n",
    "class CaptionDataset(Dataset):\n",
    "    def __init__(self, dataframe, processor, image_dir):\n",
    "        self.df = dataframe\n",
    "        self.processor = processor\n",
    "        self.image_dir = image_dir\n",
    "\n",
    "    def __len__(self):\n",
    "        return len(self.df)\n",
    "\n",
    "    def __getitem__(self, idx):\n",
    "        row = self.df.iloc[idx]\n",
    "        image_path = self.image_dir + row['image']\n",
    "        caption = row['caption_1']\n",
    "\n",
    "        image = Image.open(image_path).convert(\"RGB\")\n",
    "        inputs = self.processor(text=[caption], images=[image])\n",
    "\n",
    "        return {\n",
    "            \"input_ids\": inputs[\"input_ids\"].squeeze(0),\n",
    "            \"attention_mask\": inputs[\"attention_mask\"].squeeze(0),\n",
    "            \"pixel_values\": inputs[\"pixel_values\"].squeeze(0),\n",
    "            \"labels\": inputs[\"input_ids\"].squeeze(0),\n",
    "            \"text\": caption\n",
    "        }"
   ],
   "metadata": {
    "collapsed": false,
    "pycharm": {
     "name": "#%%\n"
    }
   }
  },
  {
   "cell_type": "code",
   "execution_count": null,
   "outputs": [],
   "source": [
    "# === DataLoader ===\n",
    "train_dataset = CaptionDataset(train_df, processor, IMAGE_DIR)\n",
    "val_dataset = CaptionDataset(val_df, processor, IMAGE_DIR)\n",
    "train_loader = DataLoader(train_dataset, batch_size=8, shuffle=True)\n",
    "val_loader = DataLoader(val_dataset, batch_size=8, shuffle=False)\n",
    "\n",
    "# === Optimizer ===\n",
    "optimizer = torch.optim.AdamW(model.parameters(), lr=5e-5)"
   ],
   "metadata": {
    "collapsed": false,
    "pycharm": {
     "name": "#%%\n"
    }
   }
  },
  {
   "cell_type": "code",
   "execution_count": null,
   "outputs": [],
   "source": [
    "# === Training Loop ===\n",
    "for epoch in range(3):\n",
    "    total_loss = 0\n",
    "    model.train()\n",
    "    for batch in tqdm(train_loader, desc=f\"Epoch {epoch + 1} - Training\"):\n",
    "        optimizer.zero_grad()\n",
    "\n",
    "        outputs = model(\n",
    "            input_ids=batch['input_ids'].to(DEVICE),\n",
    "            attention_mask=batch['attention_mask'].to(DEVICE),\n",
    "            pixel_values=batch['pixel_values'].to(DEVICE),\n",
    "            labels=batch['labels'].to(DEVICE)\n",
    "        )\n",
    "\n",
    "        loss = outputs.loss\n",
    "        loss.backward()\n",
    "        optimizer.step()\n",
    "\n",
    "        total_loss += loss.item()\n",
    "\n",
    "    avg_train_loss = total_loss / len(train_loader)\n",
    "    print(f\"Epoch {epoch + 1} | Avg Train Loss: {avg_train_loss:.4f}\")"
   ],
   "metadata": {
    "collapsed": false,
    "pycharm": {
     "name": "#%%\n"
    }
   }
  },
  {
   "cell_type": "code",
   "execution_count": null,
   "outputs": [],
   "source": [
    "\n",
    "    # === Validation ===\n",
    "    model.eval()\n",
    "    val_loss = 0\n",
    "    with torch.no_grad():\n",
    "        for batch in tqdm(val_loader, desc=f\"Epoch {epoch + 1} - Validation\"):\n",
    "            outputs = model(\n",
    "                input_ids=batch['input_ids'].to(DEVICE),\n",
    "                attention_mask=batch['attention_mask'].to(DEVICE),\n",
    "                pixel_values=batch['pixel_values'].to(DEVICE),\n",
    "                labels=batch['labels'].to(DEVICE)\n",
    "            )\n",
    "            val_loss += outputs.loss.item()\n",
    "\n",
    "    avg_val_loss = val_loss / len(val_loader)\n",
    "    print(f\"Epoch {epoch + 1} | Avg Val Loss: {avg_val_loss:.4f}\")"
   ],
   "metadata": {
    "collapsed": false,
    "pycharm": {
     "name": "#%%\n"
    }
   }
  },
  {
   "cell_type": "code",
   "execution_count": null,
   "outputs": [],
   "source": [],
   "metadata": {
    "collapsed": false,
    "pycharm": {
     "name": "#%%\n"
    }
   }
  },
  {
   "cell_type": "code",
   "execution_count": null,
   "outputs": [],
   "source": [],
   "metadata": {
    "collapsed": false,
    "pycharm": {
     "name": "#%%\n"
    }
   }
  },
  {
   "cell_type": "code",
   "execution_count": null,
   "outputs": [],
   "source": [],
   "metadata": {
    "collapsed": false,
    "pycharm": {
     "name": "#%%\n"
    }
   }
  }
 ],
 "metadata": {
  "kernelspec": {
   "display_name": "Python 3",
   "language": "python",
   "name": "python3"
  },
  "language_info": {
   "codemirror_mode": {
    "name": "ipython",
    "version": 2
   },
   "file_extension": ".py",
   "mimetype": "text/x-python",
   "name": "python",
   "nbconvert_exporter": "python",
   "pygments_lexer": "ipython2",
   "version": "2.7.6"
  }
 },
 "nbformat": 4,
 "nbformat_minor": 0
}